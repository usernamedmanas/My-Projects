{
  "nbformat": 4,
  "nbformat_minor": 0,
  "metadata": {
    "colab": {
      "provenance": [],
      "include_colab_link": true
    },
    "kernelspec": {
      "name": "python3",
      "display_name": "Python 3"
    },
    "language_info": {
      "name": "python"
    }
  },
  "cells": [
    {
      "cell_type": "markdown",
      "metadata": {
        "id": "view-in-github",
        "colab_type": "text"
      },
      "source": [
        "<a href=\"https://colab.research.google.com/github/usernamedmanas/My-Projects/blob/main/News_Recommender_Code.ipynb\" target=\"_parent\"><img src=\"https://colab.research.google.com/assets/colab-badge.svg\" alt=\"Open In Colab\"/></a>"
      ]
    },
    {
      "cell_type": "code",
      "execution_count": null,
      "metadata": {
        "colab": {
          "base_uri": "https://localhost:8080/"
        },
        "id": "pteZyDqBHwuN",
        "outputId": "4341382c-e8ff-44bb-d7d2-da8875173307"
      },
      "outputs": [
        {
          "output_type": "stream",
          "name": "stdout",
          "text": [
            "Mounted at /content/drive\n"
          ]
        }
      ],
      "source": [
        "from google.colab import drive\n",
        "drive.mount('/content/drive')"
      ]
    },
    {
      "cell_type": "code",
      "source": [
        "import pandas as pd\n",
        "from sklearn.feature_extraction.text import TfidfVectorizer\n",
        "from sklearn.metrics.pairwise import cosine_similarity\n",
        "\n",
        "# Load the dataframes\n",
        "articles_df = pd.read_csv('/content/drive/MyDrive/CNN_Articels_clean.csv')\n",
        "user_df = pd.read_csv('/content/drive/MyDrive/user - user.csv')\n",
        "articles_df = articles_df.iloc[:,:11]\n",
        "\n",
        "# Step 1: Choose a user\n",
        "user_id = 2\n",
        "\n",
        "# Step 2: Extract user interactions\n",
        "user_data = user_df[user_df['userId'] == user_id].iloc[0]\n",
        "read_articles = [int(article_id) for article_id in user_data['Articles-Read'].split(',')]\n",
        "liked_articles = [int(article_id) for article_id in user_data['Articles-Liked'].split(',')]\n",
        "commented_articles = [int(article_id) for article_id in user_data['Article-commented'].split(',')]\n",
        "\n",
        "# Step 3: Filter out user-interacted articles\n",
        "filtered_articles_df = articles_df[~articles_df['Index'].isin(read_articles + liked_articles + commented_articles)].copy()\n",
        "\n",
        "# Step 4: Combine text features\n",
        "filtered_articles_df['CombinedFeatures'] = filtered_articles_df['Description'].fillna('') + ' ' + filtered_articles_df['Author'].fillna('') + ' ' + filtered_articles_df['Category'].fillna('') + ' ' + filtered_articles_df['Section'].fillna('')\n",
        "\n",
        "# Step 5: Handle missing values\n",
        "filtered_articles_df['CombinedFeatures'].fillna('', inplace=True)\n",
        "\n",
        "# Step 6: Calculate similarity\n",
        "vectorizer = TfidfVectorizer()\n",
        "articles_tfidf = vectorizer.fit_transform(filtered_articles_df['CombinedFeatures'])\n",
        "user_vector = vectorizer.transform([user_data['Search']])\n",
        "similarity_scores = cosine_similarity(articles_tfidf, user_vector)\n",
        "\n",
        "# Step 7: Assign weightage to similarity scores\n",
        "weightage = {'search': 1, 'read': 1, 'liked': 1, 'commented': 1}\n",
        "weighted_scores = similarity_scores * weightage['search']\n",
        "weighted_scores[read_articles] *= weightage['read']\n",
        "weighted_scores[liked_articles] *= weightage['liked']\n",
        "weighted_scores[commented_articles] *= weightage['commented']\n",
        "\n",
        "# Step 8: Sort articles based on weighted similarity scores\n",
        "recommendations = filtered_articles_df.assign(WeightedScore=weighted_scores.flatten()).sort_values(by='WeightedScore', ascending=False)\n",
        "\n",
        "# Step 9: Select top 5 recommendations\n",
        "top_recommendations = recommendations.head(5)\n",
        "\n",
        "# Display the recommendations\n",
        "print(top_recommendations.drop(['CombinedFeatures','WeightedScore'],axis=1))\n"
      ],
      "metadata": {
        "colab": {
          "base_uri": "https://localhost:8080/"
        },
        "id": "xme5T0y4HxxW",
        "outputId": "1137236b-fde9-4296-dc26-4780170ecc53"
      },
      "execution_count": null,
      "outputs": [
        {
          "output_type": "stream",
          "name": "stderr",
          "text": [
            "<ipython-input-7-0c1d74398679>:6: DtypeWarning: Columns (0,11,12,13,14,15,16,17,18,19,20,21,22,23,24,25,26,27,28,29,30,31,32,33,34,35,36,37,38,39,40,41,42,43,44,45,46,47,48,49,50,51,52,53,54,55,56,57,58,59,60,61,62,63,64,65,66,67,68,69,70,71,72,73,74,75,76,77,78,79,80,81,82,83,84,85,86,87,88,89,90,91,92,93,94,95,96,97,98,99,100,101,102,103,104,105,106,107,108,109,110,111,112,113,114,115,116,117,118,119,120,121,122,123,124,125,126,127,128,129,130,131,132,133,134,135,136,137,138,139,140,141,142,143,144,145,146,147,148,149,150,151,152,153,154,155,156,157,158,159,160,161,162,163,164,165,166,167,168,169,170,171,172,173,174,175,176,177,178,179,180,181,182,183,184,185,186,187,188,189,190,191,192,193,194,195,196,197,198,199,200,201,202,203,204,205,206,207,208,209,210,211,212,213,214,215,216,217,218,219,220,221,222,223,224,225,226,227,228,229,230,231,232,233,234,235,236,237,238,239,240,241,242,243,244,245,246,247,248,249,250,251,252,253,254,255,256,257,258,259,260,261,262,263,264,265,266,267,268,269,270,271,272,273,274,275,276,277,278,279,280,281,282,283,284,285,286,287,288,289,290,291,292,293,294,295,296,297,298,299,300,301,302,303,304,305,306,307,308,309,310,311,312,313,314,315,316,317,318,319,320,321,322,323,324,325,326,327,328,329,330,331,332,333,334,335,336,337,338,339,340,341,342,343,344,345,346,347,348,349,350,351,352,353,354,355,356,357,358,359,360,361,362,363,364,365,366,367,368,369,370,371,372,373,374,375,376,377,378,379) have mixed types. Specify dtype option on import or set low_memory=False.\n",
            "  articles_df = pd.read_csv('/content/drive/MyDrive/CNN_Articels_clean.csv')\n"
          ]
        },
        {
          "output_type": "stream",
          "name": "stdout",
          "text": [
            "     Index                       Author    Date published  Category Section  \\\n",
            "16      20  Rishi Iyengar, CNN Business  11-03-2022 18:41  business    tech   \n",
            "157    203   Michelle Toh, CNN Business  03-12-2020 05:47  business    tech   \n",
            "2450  3067             Jill Martin, CNN  15-07-2021 22:27     sport  tennis   \n",
            "386    713   Shannon Liao, CNN Business  22-02-2020 18:28  business    tech   \n",
            "392    725   Shannon Liao, CNN Business  03-04-2020 17:54  business    tech   \n",
            "\n",
            "                                                    Url  \\\n",
            "16    https://www.cnn.com/2022/03/11/tech/russia-int...   \n",
            "157   https://www.cnn.com/2020/12/03/tech/autox-robo...   \n",
            "2450  https://www.cnn.com/2021/07/15/tennis/novak-dj...   \n",
            "386   https://www.cnn.com/2020/02/22/tech/lowkey-gg-...   \n",
            "392   https://www.cnn.com/2020/04/03/tech/esports-sp...   \n",
            "\n",
            "                                               Headline  \\\n",
            "16    Why internet backbone services Cogent and Lume...   \n",
            "157   Self-driving robotaxis are taking off in China...   \n",
            "2450  Novak Djokovic says he will compete in Tokyo O...   \n",
            "386   Lowkey.gg, a new service for adult gamers, thr...   \n",
            "392   Sports are canceled. Esports are still around ...   \n",
            "\n",
            "                                            Description  \\\n",
            "16    Big tech platforms have joined the global back...   \n",
            "157   The world has been inching toward fully autono...   \n",
            "2450  World No. 1 Novak Djokovic announced on social...   \n",
            "386   Teens won millions of dollars in video game co...   \n",
            "392   Esports are already online (obviously), but th...   \n",
            "\n",
            "                                               Keywords  \\\n",
            "16    tech, Why internet backbone services Cogent an...   \n",
            "157   tech, Self-driving robotaxis are taking off in...   \n",
            "2450  tennis, Novak Djokovic says he will compete in...   \n",
            "386   tech, Lowkey.gg, a new service for adult gamer...   \n",
            "392   tech, Sports are canceled. Esports are still a...   \n",
            "\n",
            "                                        Second headline  \\\n",
            "16    'This is different': Why internet backbone ser...   \n",
            "157      Self-driving robotaxis are taking off in China   \n",
            "2450  Novak Djokovic says he will compete in Tokyo O...   \n",
            "386   A 22-year-old Harvard grad launched his own am...   \n",
            "392   Esports are already online (obviously), but th...   \n",
            "\n",
            "                                           Article text  \n",
            "16     (CNN Business)Big tech platforms have joined ...  \n",
            "157   Hong Kong (CNN Business)The world has been inc...  \n",
            "2450   (CNN)World No. 1 Novak Djokovic announced on ...  \n",
            "386   New York (CNN Business)Teens won millions of d...  \n",
            "392   New York (CNN Business)Golf, basketball, hocke...  \n"
          ]
        }
      ]
    },
    {
      "cell_type": "code",
      "source": [],
      "metadata": {
        "id": "Rbk9nFeaJ4Ol"
      },
      "execution_count": null,
      "outputs": []
    }
  ]
}